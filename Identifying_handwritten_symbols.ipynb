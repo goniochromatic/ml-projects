{
 "cells": [
  {
   "cell_type": "markdown",
   "metadata": {},
   "source": [
    "# Identifying handwritten mathematical symbols and letters\n",
    "In this project I will be training a convolutonal neural network to recognize handwritten mathematical symbols and letters, and I will be using the HASYv2 dataset which has 168,000 images from 369 classes of symbols."
   ]
  },
  {
   "cell_type": "markdown",
   "metadata": {},
   "source": [
    "## Getting the data and performing data exploration"
   ]
  },
  {
   "cell_type": "code",
   "execution_count": 1,
   "metadata": {},
   "outputs": [],
   "source": [
    "from IPython.display import Image\n",
    "import csv\n",
    "from PIL import Image as pil_image\n",
    "from sklearn.model_selection import train_test_split\n",
    "import keras.preprocessing.image\n",
    "import numpy as np\n",
    "import random"
   ]
  },
  {
   "cell_type": "markdown",
   "metadata": {},
   "source": [
    "We'll take a quick look at an image, using the image class from PIL which allows us to open the image:"
   ]
  },
  {
   "cell_type": "code",
   "execution_count": 105,
   "metadata": {},
   "outputs": [
    {
     "data": {
      "image/png": "[encoded data removed]",
      "text/plain": [
       "<PIL.PngImagePlugin.PngImageFile image mode=RGB size=32x32 at 0x7FE5BF85AFD0>"
      ]
     },
     "metadata": {},
     "output_type": "display_data"
    }
   ],
   "source": [
    "im = pil_image.open(r\"/home/huginn/HASYv2/hasy-data/v2-00001.png\")\n",
    "display(im)"
   ]
  },
  {
   "cell_type": "markdown",
   "metadata": {},
   "source": [
    " They're 32x32 pixels images."
   ]
  },
  {
   "cell_type": "code",
   "execution_count": 4,
   "metadata": {},
   "outputs": [
    {
     "data": {
      "text/html": [
       "<div>\n",
       "<style scoped>\n",
       "    .dataframe tbody tr th:only-of-type {\n",
       "        vertical-align: middle;\n",
       "    }\n",
       "\n",
       "    .dataframe tbody tr th {\n",
       "        vertical-align: top;\n",
       "    }\n",
       "\n",
       "    .dataframe thead th {\n",
       "        text-align: right;\n",
       "    }\n",
       "</style>\n",
       "<table border=\"1\" class=\"dataframe\">\n",
       "  <thead>\n",
       "    <tr style=\"text-align: right;\">\n",
       "      <th></th>\n",
       "      <th>symbol_id</th>\n",
       "      <th>latex</th>\n",
       "      <th>training_samples</th>\n",
       "      <th>test_samples</th>\n",
       "    </tr>\n",
       "  </thead>\n",
       "  <tbody>\n",
       "    <tr>\n",
       "      <th>0</th>\n",
       "      <td>31</td>\n",
       "      <td>A</td>\n",
       "      <td>137</td>\n",
       "      <td>22</td>\n",
       "    </tr>\n",
       "    <tr>\n",
       "      <th>1</th>\n",
       "      <td>32</td>\n",
       "      <td>B</td>\n",
       "      <td>53</td>\n",
       "      <td>8</td>\n",
       "    </tr>\n",
       "    <tr>\n",
       "      <th>2</th>\n",
       "      <td>33</td>\n",
       "      <td>C</td>\n",
       "      <td>120</td>\n",
       "      <td>14</td>\n",
       "    </tr>\n",
       "    <tr>\n",
       "      <th>3</th>\n",
       "      <td>34</td>\n",
       "      <td>D</td>\n",
       "      <td>50</td>\n",
       "      <td>8</td>\n",
       "    </tr>\n",
       "    <tr>\n",
       "      <th>4</th>\n",
       "      <td>35</td>\n",
       "      <td>E</td>\n",
       "      <td>48</td>\n",
       "      <td>6</td>\n",
       "    </tr>\n",
       "  </tbody>\n",
       "</table>\n",
       "</div>"
      ],
      "text/plain": [
       "   symbol_id latex  training_samples  test_samples\n",
       "0         31     A               137            22\n",
       "1         32     B                53             8\n",
       "2         33     C               120            14\n",
       "3         34     D                50             8\n",
       "4         35     E                48             6"
      ]
     },
     "execution_count": 4,
     "metadata": {},
     "output_type": "execute_result"
    }
   ],
   "source": [
    "import pandas as pd\n",
    "\n",
    "classes = pd.read_csv(\"/home/huginn/HASYv2/symbols.csv\")\n",
    "classes.head()"
   ]
  },
  {
   "cell_type": "markdown",
   "metadata": {},
   "source": [
    "There is a `symbols.csv` file which contains the list of all 369 symbols, the number of samples available for each symbol."
   ]
  },
  {
   "cell_type": "code",
   "execution_count": 10,
   "metadata": {},
   "outputs": [
    {
     "data": {
      "text/plain": [
       "(369, 4)"
      ]
     },
     "execution_count": 10,
     "metadata": {},
     "output_type": "execute_result"
    }
   ],
   "source": [
    "classes.shape"
   ]
  },
  {
   "cell_type": "markdown",
   "metadata": {},
   "source": [
    "The `hasy-data-labels.csv` contains the path to all the images and their label: "
   ]
  },
  {
   "cell_type": "code",
   "execution_count": 5,
   "metadata": {},
   "outputs": [
    {
     "data": {
      "text/html": [
       "<div>\n",
       "<style scoped>\n",
       "    .dataframe tbody tr th:only-of-type {\n",
       "        vertical-align: middle;\n",
       "    }\n",
       "\n",
       "    .dataframe tbody tr th {\n",
       "        vertical-align: top;\n",
       "    }\n",
       "\n",
       "    .dataframe thead th {\n",
       "        text-align: right;\n",
       "    }\n",
       "</style>\n",
       "<table border=\"1\" class=\"dataframe\">\n",
       "  <thead>\n",
       "    <tr style=\"text-align: right;\">\n",
       "      <th></th>\n",
       "      <th>path</th>\n",
       "      <th>symbol_id</th>\n",
       "      <th>latex</th>\n",
       "      <th>user_id</th>\n",
       "    </tr>\n",
       "  </thead>\n",
       "  <tbody>\n",
       "    <tr>\n",
       "      <th>0</th>\n",
       "      <td>hasy-data/v2-00000.png</td>\n",
       "      <td>31</td>\n",
       "      <td>A</td>\n",
       "      <td>50</td>\n",
       "    </tr>\n",
       "    <tr>\n",
       "      <th>1</th>\n",
       "      <td>hasy-data/v2-00001.png</td>\n",
       "      <td>31</td>\n",
       "      <td>A</td>\n",
       "      <td>10</td>\n",
       "    </tr>\n",
       "    <tr>\n",
       "      <th>2</th>\n",
       "      <td>hasy-data/v2-00002.png</td>\n",
       "      <td>31</td>\n",
       "      <td>A</td>\n",
       "      <td>43</td>\n",
       "    </tr>\n",
       "    <tr>\n",
       "      <th>3</th>\n",
       "      <td>hasy-data/v2-00003.png</td>\n",
       "      <td>31</td>\n",
       "      <td>A</td>\n",
       "      <td>43</td>\n",
       "    </tr>\n",
       "    <tr>\n",
       "      <th>4</th>\n",
       "      <td>hasy-data/v2-00004.png</td>\n",
       "      <td>31</td>\n",
       "      <td>A</td>\n",
       "      <td>4435</td>\n",
       "    </tr>\n",
       "  </tbody>\n",
       "</table>\n",
       "</div>"
      ],
      "text/plain": [
       "                     path  symbol_id latex  user_id\n",
       "0  hasy-data/v2-00000.png         31     A       50\n",
       "1  hasy-data/v2-00001.png         31     A       10\n",
       "2  hasy-data/v2-00002.png         31     A       43\n",
       "3  hasy-data/v2-00003.png         31     A       43\n",
       "4  hasy-data/v2-00004.png         31     A     4435"
      ]
     },
     "execution_count": 5,
     "metadata": {},
     "output_type": "execute_result"
    }
   ],
   "source": [
    "labels = pd.read_csv(\"/home/huginn/HASYv2/hasy-data-labels.csv\")\n",
    "labels.head()"
   ]
  },
  {
   "cell_type": "code",
   "execution_count": 20,
   "metadata": {},
   "outputs": [
    {
     "data": {
      "text/plain": [
       "(168233, 4)"
      ]
     },
     "execution_count": 20,
     "metadata": {},
     "output_type": "execute_result"
    }
   ],
   "source": [
    "labels.shape"
   ]
  },
  {
   "cell_type": "markdown",
   "metadata": {},
   "source": [
    "## Data preprocessing"
   ]
  },
  {
   "cell_type": "markdown",
   "metadata": {},
   "source": [
    "Now we need to convert the images to numpy arrays to feed them to the neural network, and we'll also take a note of the class, we'll put them in a list `images` and `classes` respectively. We're also going to divide each pixel value in the array by 255 to rescale it to the range between 0 and 1 since neuron activation functions anct best with these values."
   ]
  },
  {
   "cell_type": "code",
   "execution_count": 13,
   "metadata": {},
   "outputs": [],
   "source": [
    "c = 0\n",
    "images = []\n",
    "classes = []\n",
    "        \n",
    "with open('/home/huginn/HASYv2/hasy-data-labels.csv') as csv_file:\n",
    "    csv_reader = csv.reader(csv_file)\n",
    "    for row in csv_reader:\n",
    "        if c>0: #skipping the first row since it's the header\n",
    "            \n",
    "            img = keras.preprocessing.image.img_to_array(\n",
    "                  pil_image.open(\"/home/huginn/HASYv2/\" + row[0]))\n",
    "            img /= 255.0\n",
    "            images.append((row[2], img))\n",
    "            classes.append(row[2])\n",
    "        c += 1"
   ]
  },
  {
   "cell_type": "markdown",
   "metadata": {},
   "source": [
    "Now we have a list with the numpy array version of the images and their string labels:"
   ]
  },
  {
   "cell_type": "code",
   "execution_count": 24,
   "metadata": {},
   "outputs": [
    {
     "data": {
      "text/plain": [
       "[('A',\n",
       "  array([[[1., 1., 1.],\n",
       "          [1., 1., 1.],\n",
       "          [1., 1., 1.],\n",
       "          ...,\n",
       "          [1., 1., 1.],\n",
       "          [1., 1., 1.],\n",
       "          [1., 1., 1.]],\n",
       "  \n",
       "         [[1., 1., 1.],\n",
       "          [1., 1., 1.],\n",
       "          [1., 1., 1.],\n",
       "          ...,\n",
       "          [1., 1., 1.],\n",
       "          [1., 1., 1.],\n",
       "          [1., 1., 1.]],\n",
       "  \n",
       "         [[1., 1., 1.],\n",
       "          [1., 1., 1.],\n",
       "          [1., 1., 1.],\n",
       "          ...,\n",
       "          [1., 1., 1.],\n",
       "          [1., 1., 1.],\n",
       "          [1., 1., 1.]],\n",
       "  \n",
       "         ...,\n",
       "  \n",
       "         [[1., 1., 1.],\n",
       "          [1., 1., 1.],\n",
       "          [1., 1., 1.],\n",
       "          ...,\n",
       "          [1., 1., 1.],\n",
       "          [1., 1., 1.],\n",
       "          [1., 1., 1.]],\n",
       "  \n",
       "         [[1., 1., 1.],\n",
       "          [1., 1., 1.],\n",
       "          [1., 1., 1.],\n",
       "          ...,\n",
       "          [1., 1., 1.],\n",
       "          [1., 1., 1.],\n",
       "          [1., 1., 1.]],\n",
       "  \n",
       "         [[1., 1., 1.],\n",
       "          [1., 1., 1.],\n",
       "          [1., 1., 1.],\n",
       "          ...,\n",
       "          [1., 1., 1.],\n",
       "          [1., 1., 1.],\n",
       "          [1., 1., 1.]]], dtype=float32))]"
      ]
     },
     "execution_count": 24,
     "metadata": {},
     "output_type": "execute_result"
    }
   ],
   "source": [
    "images[:1]"
   ]
  },
  {
   "cell_type": "code",
   "execution_count": 22,
   "metadata": {},
   "outputs": [
    {
     "data": {
      "text/plain": [
       "168233"
      ]
     },
     "execution_count": 22,
     "metadata": {},
     "output_type": "execute_result"
    }
   ],
   "source": [
    "len(images)"
   ]
  },
  {
   "cell_type": "markdown",
   "metadata": {},
   "source": [
    "### Splitting the data\n",
    "Here we'll split the data into 80% training and 20% testing sets after shuffling it, and then one-hot encode the labels."
   ]
  },
  {
   "cell_type": "code",
   "execution_count": 14,
   "metadata": {},
   "outputs": [],
   "source": [
    "random.shuffle(images)\n",
    "\n",
    "input_full = np.asarray(list(map(lambda row: row[1], images)))\n",
    "output_full_str = np.asarray(list(map(lambda row: row[0], images)))\n",
    "\n",
    "split = int(len(input_full)*0.2)\n",
    "\n",
    "train_input = input_full[split:]\n",
    "test_input = input_full[:split]\n",
    "\n",
    "train_output_str = output_full_str[split:]\n",
    "test_output_str = output_full_str[:split]"
   ]
  },
  {
   "cell_type": "code",
   "execution_count": 39,
   "metadata": {},
   "outputs": [
    {
     "data": {
      "text/plain": [
       "134587"
      ]
     },
     "execution_count": 39,
     "metadata": {},
     "output_type": "execute_result"
    }
   ],
   "source": [
    "len(train_output_str)"
   ]
  },
  {
   "cell_type": "markdown",
   "metadata": {},
   "source": [
    "### One-hot encoding the labels\n",
    "We're going to use `sklearn.preprocessing`'s `LabelEncoder` and `OneHotEncoder`. First we convert the labels into integers using `LabelEncoder` and then convert them to one-hot encoding. "
   ]
  },
  {
   "cell_type": "code",
   "execution_count": 40,
   "metadata": {},
   "outputs": [],
   "source": [
    "from sklearn.preprocessing import LabelEncoder, OneHotEncoder\n",
    "\n",
    "label_encoder = LabelEncoder() \n",
    "onehot_encoder = OneHotEncoder(sparse=False)\n",
    "\n",
    "int_encoded = label_encoder.fit_transform(classes)\n",
    "int_encoded = int_encoded.reshape(len(int_encoded), 1)\n",
    "onehot_encoder.fit(int_encoded)\n",
    "             \n",
    "\n",
    "train_output_int = label_encoder.transform(train_output_str)\n",
    "train_output = onehot_encoder.transform(train_output_int.reshape(len(train_output_int), 1))\n",
    "\n",
    "test_output_int = label_encoder.transform(test_output_str)\n",
    "test_output = onehot_encoder.transform(test_output_int.reshape(len(test_output_int), 1))"
   ]
  },
  {
   "cell_type": "markdown",
   "metadata": {},
   "source": [
    "# Training and evaluation the model\n",
    "We're going to try first a classification multiple layer perceptron with 2 hidden layers. The first layer in the model, the Flatten layer, does some preliminary preprocessing by converting each input image to a 1D array, then we add 2 Dense hidden layers with 300 and 100 neurons each and with the `relu` activation function. Lastly we add a Dense output layer with 369 neurons which is the number of classes in the dataset, with the `softmax` activation function since the outputs are mutually exclusive, and assures that all the weights of the neurons add up to 1."
   ]
  },
  {
   "cell_type": "code",
   "execution_count": 45,
   "metadata": {},
   "outputs": [],
   "source": [
    "from keras.models import Sequential\n",
    "from keras.layers import Dense, Flatten\n",
    "\n",
    "model  = keras.models.Sequential([\n",
    "    keras.layers.Flatten(input_shape=[32, 32, 3]),\n",
    "    keras.layers.Dense(300, activation='relu'),\n",
    "    keras.layers.Dense(100, activation='relu'),\n",
    "    keras.layers.Dense(369, activation='softmax')\n",
    "])"
   ]
  },
  {
   "cell_type": "code",
   "execution_count": 46,
   "metadata": {},
   "outputs": [
    {
     "name": "stdout",
     "output_type": "stream",
     "text": [
      "Model: \"sequential_1\"\n",
      "_________________________________________________________________\n",
      "Layer (type)                 Output Shape              Param #   \n",
      "=================================================================\n",
      "flatten_1 (Flatten)          (None, 3072)              0         \n",
      "_________________________________________________________________\n",
      "dense_3 (Dense)              (None, 300)               921900    \n",
      "_________________________________________________________________\n",
      "dense_4 (Dense)              (None, 100)               30100     \n",
      "_________________________________________________________________\n",
      "dense_5 (Dense)              (None, 369)               37269     \n",
      "=================================================================\n",
      "Total params: 989,269\n",
      "Trainable params: 989,269\n",
      "Non-trainable params: 0\n",
      "_________________________________________________________________\n"
     ]
    }
   ],
   "source": [
    "model.summary()"
   ]
  },
  {
   "cell_type": "markdown",
   "metadata": {},
   "source": [
    "We then compile the model with the `categorical_crossentropy` since we have one target probability per class for each instance, and we'll use the `sgd` as the optimizer which performs simple Stochastic Gradient Descent, and finally we add `accuracy` as metrics to mesure the accuracy during training."
   ]
  },
  {
   "cell_type": "code",
   "execution_count": 47,
   "metadata": {},
   "outputs": [],
   "source": [
    "model.compile(loss='categorical_crossentropy', optimizer='sgd', metrics=['accuracy'])"
   ]
  },
  {
   "cell_type": "markdown",
   "metadata": {},
   "source": [
    "We now fit the data to the model and use a 20% validation split, and perform 15 epochs."
   ]
  },
  {
   "cell_type": "code",
   "execution_count": 48,
   "metadata": {},
   "outputs": [
    {
     "name": "stdout",
     "output_type": "stream",
     "text": [
      "Epoch 1/15\n",
      "3365/3365 - 20s - loss: 3.8633 - accuracy: 0.2740 - val_loss: 2.7009 - val_accuracy: 0.4280\n",
      "Epoch 2/15\n",
      "3365/3365 - 15s - loss: 2.2080 - accuracy: 0.5102 - val_loss: 2.0530 - val_accuracy: 0.5338\n",
      "Epoch 3/15\n",
      "3365/3365 - 15s - loss: 1.8053 - accuracy: 0.5801 - val_loss: 1.7002 - val_accuracy: 0.6003\n",
      "Epoch 4/15\n",
      "3365/3365 - 16s - loss: 1.5928 - accuracy: 0.6189 - val_loss: 1.5925 - val_accuracy: 0.6136\n",
      "Epoch 5/15\n",
      "3365/3365 - 15s - loss: 1.4523 - accuracy: 0.6452 - val_loss: 1.4888 - val_accuracy: 0.6371\n",
      "Epoch 6/15\n",
      "3365/3365 - 15s - loss: 1.3495 - accuracy: 0.6653 - val_loss: 1.4133 - val_accuracy: 0.6477\n",
      "Epoch 7/15\n",
      "3365/3365 - 15s - loss: 1.2669 - accuracy: 0.6804 - val_loss: 1.3484 - val_accuracy: 0.6581\n",
      "Epoch 8/15\n",
      "3365/3365 - 15s - loss: 1.2008 - accuracy: 0.6927 - val_loss: 1.3132 - val_accuracy: 0.6667\n",
      "Epoch 9/15\n",
      "3365/3365 - 15s - loss: 1.1445 - accuracy: 0.7045 - val_loss: 1.2838 - val_accuracy: 0.6735\n",
      "Epoch 10/15\n",
      "3365/3365 - 15s - loss: 1.0965 - accuracy: 0.7148 - val_loss: 1.2187 - val_accuracy: 0.6897\n",
      "Epoch 11/15\n",
      "3365/3365 - 15s - loss: 1.0519 - accuracy: 0.7220 - val_loss: 1.2360 - val_accuracy: 0.6754\n",
      "Epoch 12/15\n",
      "3365/3365 - 15s - loss: 1.0147 - accuracy: 0.7307 - val_loss: 1.2021 - val_accuracy: 0.6886\n",
      "Epoch 13/15\n",
      "3365/3365 - 15s - loss: 0.9805 - accuracy: 0.7362 - val_loss: 1.1655 - val_accuracy: 0.6904\n",
      "Epoch 14/15\n",
      "3365/3365 - 15s - loss: 0.9482 - accuracy: 0.7439 - val_loss: 1.1459 - val_accuracy: 0.6932\n",
      "Epoch 15/15\n",
      "3365/3365 - 15s - loss: 0.9197 - accuracy: 0.7503 - val_loss: 1.1051 - val_accuracy: 0.7106\n"
     ]
    }
   ],
   "source": [
    "history = model.fit(train_input, train_output, epochs=15, verbose=2, validation_split=0.2)"
   ]
  },
  {
   "cell_type": "markdown",
   "metadata": {},
   "source": [
    "We got around 70% accuracy which isn't too bad considering that there are 369 classes, but we'll try anothere network design to see if we can improve it.\n",
    "\n",
    "Here we plot training and validation accuracy and loss, and we can see that the training curves are not too far from the validation curves so there isn't too much overfitting happening:"
   ]
  },
  {
   "cell_type": "code",
   "execution_count": 53,
   "metadata": {},
   "outputs": [
    {
     "data": {
      "image/png": "[encoded data removed]",
      "text/plain": [
       "<Figure size 720x504 with 1 Axes>"
      ]
     },
     "metadata": {
      "needs_background": "light"
     },
     "output_type": "display_data"
    }
   ],
   "source": [
    "import matplotlib.pyplot as plt\n",
    "\n",
    "pd.DataFrame(history.history).plot(figsize=(10, 7))\n",
    "plt.grid(True)"
   ]
  },
  {
   "cell_type": "markdown",
   "metadata": {},
   "source": [
    "We'll now try anothere network, and we'll add a convolution and dropout layer as well:"
   ]
  },
  {
   "cell_type": "code",
   "execution_count": 57,
   "metadata": {},
   "outputs": [],
   "source": [
    "model2  = keras.models.Sequential([\n",
    "    keras.layers.Conv2D(32, kernel_size=(3, 3), activation='relu', \n",
    "                        input_shape=np.shape(train_input[0])),\n",
    "    keras.layers.MaxPooling2D(pool_size=(2, 2)),\n",
    "    keras.layers.Flatten(),\n",
    "    keras.layers.Dense(300, activation='relu'),\n",
    "    keras.layers.Dropout(0.5),\n",
    "    keras.layers.Dense(100, activation='relu'),\n",
    "    keras.layers.Dense(369, activation='softmax')\n",
    "])"
   ]
  },
  {
   "cell_type": "code",
   "execution_count": 65,
   "metadata": {},
   "outputs": [
    {
     "name": "stdout",
     "output_type": "stream",
     "text": [
      "Model: \"sequential_2\"\n",
      "_________________________________________________________________\n",
      "Layer (type)                 Output Shape              Param #   \n",
      "=================================================================\n",
      "conv2d (Conv2D)              (None, 30, 30, 32)        896       \n",
      "_________________________________________________________________\n",
      "max_pooling2d (MaxPooling2D) (None, 15, 15, 32)        0         \n",
      "_________________________________________________________________\n",
      "flatten_2 (Flatten)          (None, 7200)              0         \n",
      "_________________________________________________________________\n",
      "dense_6 (Dense)              (None, 300)               2160300   \n",
      "_________________________________________________________________\n",
      "dropout (Dropout)            (None, 300)               0         \n",
      "_________________________________________________________________\n",
      "dense_7 (Dense)              (None, 100)               30100     \n",
      "_________________________________________________________________\n",
      "dense_8 (Dense)              (None, 369)               37269     \n",
      "=================================================================\n",
      "Total params: 2,228,565\n",
      "Trainable params: 2,228,565\n",
      "Non-trainable params: 0\n",
      "_________________________________________________________________\n"
     ]
    }
   ],
   "source": [
    "model2.summary()"
   ]
  },
  {
   "cell_type": "code",
   "execution_count": 59,
   "metadata": {},
   "outputs": [
    {
     "name": "stdout",
     "output_type": "stream",
     "text": [
      "Epoch 1/20\n",
      "3365/3365 - 67s - loss: 4.4948 - accuracy: 0.1766 - val_loss: 2.5267 - val_accuracy: 0.4779\n",
      "Epoch 2/20\n",
      "3365/3365 - 65s - loss: 2.1950 - accuracy: 0.5007 - val_loss: 1.4850 - val_accuracy: 0.6287\n",
      "Epoch 3/20\n",
      "3365/3365 - 64s - loss: 1.6143 - accuracy: 0.5976 - val_loss: 1.2113 - val_accuracy: 0.6787\n",
      "Epoch 4/20\n",
      "3365/3365 - 64s - loss: 1.3856 - accuracy: 0.6413 - val_loss: 1.0912 - val_accuracy: 0.7059\n",
      "Epoch 5/20\n",
      "3365/3365 - 64s - loss: 1.2523 - accuracy: 0.6687 - val_loss: 1.0168 - val_accuracy: 0.7276\n",
      "Epoch 6/20\n",
      "3365/3365 - 63s - loss: 1.1648 - accuracy: 0.6881 - val_loss: 0.9574 - val_accuracy: 0.7402\n",
      "Epoch 7/20\n",
      "3365/3365 - 73s - loss: 1.0967 - accuracy: 0.6995 - val_loss: 0.9224 - val_accuracy: 0.7425\n",
      "Epoch 8/20\n",
      "3365/3365 - 62s - loss: 1.0440 - accuracy: 0.7136 - val_loss: 0.8969 - val_accuracy: 0.7471\n",
      "Epoch 9/20\n",
      "3365/3365 - 62s - loss: 0.9998 - accuracy: 0.7220 - val_loss: 0.8626 - val_accuracy: 0.7602\n",
      "Epoch 10/20\n",
      "3365/3365 - 63s - loss: 0.9586 - accuracy: 0.7317 - val_loss: 0.8584 - val_accuracy: 0.7590\n",
      "Epoch 11/20\n",
      "3365/3365 - 63s - loss: 0.9285 - accuracy: 0.7384 - val_loss: 0.8347 - val_accuracy: 0.7615\n",
      "Epoch 12/20\n",
      "3365/3365 - 63s - loss: 0.8984 - accuracy: 0.7453 - val_loss: 0.8243 - val_accuracy: 0.7698\n",
      "Epoch 13/20\n",
      "3365/3365 - 64s - loss: 0.8800 - accuracy: 0.7481 - val_loss: 0.8211 - val_accuracy: 0.7633\n",
      "Epoch 14/20\n",
      "3365/3365 - 64s - loss: 0.8516 - accuracy: 0.7550 - val_loss: 0.8332 - val_accuracy: 0.7676\n",
      "Epoch 15/20\n",
      "3365/3365 - 64s - loss: 0.8318 - accuracy: 0.7584 - val_loss: 0.7788 - val_accuracy: 0.7791\n",
      "Epoch 16/20\n",
      "3365/3365 - 64s - loss: 0.8123 - accuracy: 0.7629 - val_loss: 0.7903 - val_accuracy: 0.7739\n",
      "Epoch 17/20\n",
      "3365/3365 - 67s - loss: 0.7942 - accuracy: 0.7656 - val_loss: 0.7874 - val_accuracy: 0.7746\n",
      "Epoch 18/20\n",
      "3365/3365 - 67s - loss: 0.7760 - accuracy: 0.7708 - val_loss: 0.7747 - val_accuracy: 0.7803\n",
      "Epoch 19/20\n",
      "3365/3365 - 67s - loss: 0.7639 - accuracy: 0.7735 - val_loss: 0.7917 - val_accuracy: 0.7719\n",
      "Epoch 20/20\n",
      "3365/3365 - 68s - loss: 0.7470 - accuracy: 0.7760 - val_loss: 0.7546 - val_accuracy: 0.7805\n"
     ]
    }
   ],
   "source": [
    "model2.compile(loss='categorical_crossentropy', optimizer='sgd', metrics=['accuracy'])\n",
    "history2 = model2.fit(train_input, train_output, epochs=20, verbose=2, validation_split=0.2)"
   ]
  },
  {
   "cell_type": "code",
   "execution_count": 63,
   "metadata": {},
   "outputs": [
    {
     "data": {
      "text/plain": [
       "(0.0, 1.5)"
      ]
     },
     "execution_count": 63,
     "metadata": {},
     "output_type": "execute_result"
    },
    {
     "data": {
      "image/png": "[encoded data removed]",
      "text/plain": [
       "<Figure size 720x504 with 1 Axes>"
      ]
     },
     "metadata": {
      "needs_background": "light"
     },
     "output_type": "display_data"
    }
   ],
   "source": [
    "pd.DataFrame(history2.history).plot(figsize=(10, 7))\n",
    "plt.grid(True)\n",
    "plt.gca().set_ylim(0, 1.5)"
   ]
  },
  {
   "cell_type": "markdown",
   "metadata": {},
   "source": [
    "This model didn't perform too badly and got a decent increase in accuracy, so we'll evaluate it on the test set to check the generalization error:"
   ]
  },
  {
   "cell_type": "code",
   "execution_count": 64,
   "metadata": {},
   "outputs": [
    {
     "name": "stdout",
     "output_type": "stream",
     "text": [
      "1052/1052 [==============================] - 7s 7ms/step - loss: 0.7682 - accuracy: 0.7793\n"
     ]
    },
    {
     "data": {
      "text/plain": [
       "[0.7682269215583801, 0.779260516166687]"
      ]
     },
     "execution_count": 64,
     "metadata": {},
     "output_type": "execute_result"
    }
   ],
   "source": [
    "model2.evaluate(test_input, test_output)"
   ]
  },
  {
   "cell_type": "markdown",
   "metadata": {},
   "source": [
    "So in the end we got about 78% accuracy and now that we are satisfied with the performance and parameters we'll retrain the model using all the data to get the best model we can, and also save it, along with the `label_encoder` to reverse one-hot encoding to read the prediction results:"
   ]
  },
  {
   "cell_type": "code",
   "execution_count": 67,
   "metadata": {},
   "outputs": [
    {
     "name": "stdout",
     "output_type": "stream",
     "text": [
      "Model: \"sequential_3\"\n",
      "_________________________________________________________________\n",
      "Layer (type)                 Output Shape              Param #   \n",
      "=================================================================\n",
      "conv2d_1 (Conv2D)            (None, 30, 30, 32)        896       \n",
      "_________________________________________________________________\n",
      "max_pooling2d_1 (MaxPooling2 (None, 15, 15, 32)        0         \n",
      "_________________________________________________________________\n",
      "flatten_3 (Flatten)          (None, 7200)              0         \n",
      "_________________________________________________________________\n",
      "dense_9 (Dense)              (None, 300)               2160300   \n",
      "_________________________________________________________________\n",
      "dropout_1 (Dropout)          (None, 300)               0         \n",
      "_________________________________________________________________\n",
      "dense_10 (Dense)             (None, 100)               30100     \n",
      "_________________________________________________________________\n",
      "dense_11 (Dense)             (None, 369)               37269     \n",
      "=================================================================\n",
      "Total params: 2,228,565\n",
      "Trainable params: 2,228,565\n",
      "Non-trainable params: 0\n",
      "_________________________________________________________________\n",
      "None\n",
      "Epoch 1/20\n",
      "4206/4206 - 85s - loss: 4.2919 - accuracy: 0.2046 - val_loss: 2.2365 - val_accuracy: 0.5049\n",
      "Epoch 2/20\n",
      "4206/4206 - 80s - loss: 1.9946 - accuracy: 0.5313 - val_loss: 1.3698 - val_accuracy: 0.6503\n",
      "Epoch 3/20\n",
      "4206/4206 - 81s - loss: 1.5109 - accuracy: 0.6158 - val_loss: 1.1373 - val_accuracy: 0.6973\n",
      "Epoch 4/20\n",
      "4206/4206 - 81s - loss: 1.3150 - accuracy: 0.6553 - val_loss: 1.0305 - val_accuracy: 0.7227\n",
      "Epoch 5/20\n",
      "4206/4206 - 82s - loss: 1.1971 - accuracy: 0.6795 - val_loss: 0.9562 - val_accuracy: 0.7420\n",
      "Epoch 6/20\n",
      "4206/4206 - 81s - loss: 1.1182 - accuracy: 0.6970 - val_loss: 0.9137 - val_accuracy: 0.7463\n",
      "Epoch 7/20\n",
      "4206/4206 - 81s - loss: 1.0573 - accuracy: 0.7102 - val_loss: 0.8918 - val_accuracy: 0.7514\n",
      "Epoch 8/20\n",
      "4206/4206 - 81s - loss: 1.0073 - accuracy: 0.7218 - val_loss: 0.8826 - val_accuracy: 0.7511\n",
      "Epoch 9/20\n",
      "4206/4206 - 81s - loss: 0.9670 - accuracy: 0.7296 - val_loss: 0.8423 - val_accuracy: 0.7664\n",
      "Epoch 10/20\n",
      "4206/4206 - 82s - loss: 0.9338 - accuracy: 0.7362 - val_loss: 0.8477 - val_accuracy: 0.7517\n",
      "Epoch 11/20\n",
      "4206/4206 - 80s - loss: 0.9056 - accuracy: 0.7433 - val_loss: 0.8070 - val_accuracy: 0.7699\n",
      "Epoch 12/20\n",
      "4206/4206 - 80s - loss: 0.8782 - accuracy: 0.7484 - val_loss: 0.8003 - val_accuracy: 0.7748\n",
      "Epoch 13/20\n",
      "4206/4206 - 80s - loss: 0.8524 - accuracy: 0.7544 - val_loss: 0.7892 - val_accuracy: 0.7704\n",
      "Epoch 14/20\n",
      "4206/4206 - 80s - loss: 0.8314 - accuracy: 0.7578 - val_loss: 0.7783 - val_accuracy: 0.7823\n",
      "Epoch 15/20\n",
      "4206/4206 - 80s - loss: 0.8155 - accuracy: 0.7628 - val_loss: 0.7625 - val_accuracy: 0.7846\n",
      "Epoch 16/20\n",
      "4206/4206 - 80s - loss: 0.7957 - accuracy: 0.7667 - val_loss: 0.7674 - val_accuracy: 0.7839\n",
      "Epoch 17/20\n",
      "4206/4206 - 81s - loss: 0.7795 - accuracy: 0.7685 - val_loss: 0.7659 - val_accuracy: 0.7817\n",
      "Epoch 18/20\n",
      "4206/4206 - 80s - loss: 0.7641 - accuracy: 0.7728 - val_loss: 0.7509 - val_accuracy: 0.7867\n",
      "Epoch 19/20\n",
      "4206/4206 - 80s - loss: 0.7472 - accuracy: 0.7758 - val_loss: 0.7529 - val_accuracy: 0.7896\n",
      "Epoch 20/20\n",
      "4206/4206 - 81s - loss: 0.7323 - accuracy: 0.7794 - val_loss: 0.7461 - val_accuracy: 0.7830\n",
      "INFO:tensorflow:Assets written to: symbols_model.model/assets\n"
     ]
    }
   ],
   "source": [
    "final_model = keras.models.Sequential([\n",
    "    keras.layers.Conv2D(32, kernel_size=(3, 3), activation='relu', \n",
    "                        input_shape=np.shape(train_input[0])),\n",
    "    keras.layers.MaxPooling2D(pool_size=(2, 2)),\n",
    "    keras.layers.Flatten(),\n",
    "    keras.layers.Dense(300, activation='relu'),\n",
    "    keras.layers.Dropout(0.5),\n",
    "    keras.layers.Dense(100, activation='relu'),\n",
    "    keras.layers.Dense(369, activation='softmax')])\n",
    "\n",
    "final_model.compile(loss='categorical_crossentropy', optimizer='sgd', metrics=['accuracy'])\n",
    "print(final_model.summary())\n",
    "history_final = final_model.fit(np.concatenate((train_input, test_input)), \n",
    "                                np.concatenate((train_output, test_output)), \n",
    "                                epochs=20, verbose=2, validation_split=0.2)\n",
    "\n",
    "final_model.save(\"symbols_model.model\")\n",
    "np.save(\"classes.npy\", label_encoder.classes_)"
   ]
  },
  {
   "cell_type": "code",
   "execution_count": 108,
   "metadata": {},
   "outputs": [
    {
     "data": {
      "text/plain": [
       "(0.0, 2.0)"
      ]
     },
     "execution_count": 108,
     "metadata": {},
     "output_type": "execute_result"
    },
    {
     "data": {
      "image/png": "[encoded data removed]",
      "text/plain": [
       "<Figure size 720x504 with 1 Axes>"
      ]
     },
     "metadata": {
      "needs_background": "light"
     },
     "output_type": "display_data"
    }
   ],
   "source": [
    "pd.DataFrame(history_final.history).plot(figsize=(10, 7))\n",
    "plt.grid(True)\n",
    "plt.gca().set_ylim(0, 2)"
   ]
  },
  {
   "cell_type": "markdown",
   "metadata": {},
   "source": [
    "We'll have to write a prediction function that takes in an image path and converts that image to a numpy array and then scale the pixel values, and then also reverse the label encoding to get the string version of the label:"
   ]
  },
  {
   "cell_type": "code",
   "execution_count": null,
   "metadata": {},
   "outputs": [],
   "source": [
    " def predict(image_path):\n",
    "        img = keras.preprocessing.image.img_to_array(pil_image.open(image_path))\n",
    "        img /= 255.0\n",
    "        \n",
    "        prediction = final_model.predict(img.reshape(1, 32, 32, 3))\n",
    "        \n",
    "        inverted = label_encoder.inverse_transform([np.argmax(prediction)])\n",
    "        \n",
    "        print(\"Prediction: %s, confidence: %.2f\" % (inverted[0], np.max(prediction)))"
   ]
  },
  {
   "cell_type": "markdown",
   "metadata": {},
   "source": [
    "Now we can test the model on a few images, although they're from the training set because we don't have other ones. We'll load an image and then try to classify it:"
   ]
  },
  {
   "cell_type": "code",
   "execution_count": 98,
   "metadata": {},
   "outputs": [
    {
     "data": {
      "image/png": "[encoded data removed]",
      "text/plain": [
       "<PIL.PngImagePlugin.PngImageFile image mode=RGB size=32x32 at 0x7FE5BF844C50>"
      ]
     },
     "metadata": {},
     "output_type": "display_data"
    }
   ],
   "source": [
    "im1 = pil_image.open(r\"/home/huginn/HASYv2/hasy-data/v2-00099.png\")\n",
    "display(im1)"
   ]
  },
  {
   "cell_type": "code",
   "execution_count": 97,
   "metadata": {},
   "outputs": [
    {
     "name": "stdout",
     "output_type": "stream",
     "text": [
      "Prediction: J, confidence: 0.97\n"
     ]
    }
   ],
   "source": [
    "predict(\"/home/huginn/HASYv2/hasy-data/v2-00099.png\")"
   ]
  },
  {
   "cell_type": "code",
   "execution_count": 99,
   "metadata": {},
   "outputs": [
    {
     "data": {
      "image/png": "[encoded data removed]",
      "text/plain": [
       "<PIL.PngImagePlugin.PngImageFile image mode=RGB size=32x32 at 0x7FE5C0199190>"
      ]
     },
     "metadata": {},
     "output_type": "display_data"
    }
   ],
   "source": [
    "im2 = pil_image.open(r\"/home/huginn/HASYv2/hasy-data/v2-00086.png\")\n",
    "display(im2)"
   ]
  },
  {
   "cell_type": "code",
   "execution_count": 100,
   "metadata": {},
   "outputs": [
    {
     "name": "stdout",
     "output_type": "stream",
     "text": [
      "Prediction: I, confidence: 0.60\n"
     ]
    }
   ],
   "source": [
    "predict(\"/home/huginn/HASYv2/hasy-data/v2-00086.png\")"
   ]
  },
  {
   "cell_type": "code",
   "execution_count": 102,
   "metadata": {},
   "outputs": [
    {
     "data": {
      "image/png": "[encoded data removed]",
      "text/plain": [
       "<PIL.PngImagePlugin.PngImageFile image mode=RGB size=32x32 at 0x7FE5C02BA390>"
      ]
     },
     "metadata": {},
     "output_type": "display_data"
    }
   ],
   "source": [
    "im3 = pil_image.open(r\"/home/huginn/HASYv2/hasy-data/v2-00386.png\")\n",
    "display(im3)"
   ]
  },
  {
   "cell_type": "code",
   "execution_count": 103,
   "metadata": {},
   "outputs": [
    {
     "name": "stdout",
     "output_type": "stream",
     "text": [
      "Prediction: 3, confidence: 0.91\n"
     ]
    }
   ],
   "source": [
    "predict(\"/home/huginn/HASYv2/hasy-data/v2-00386.png\")"
   ]
  },
  {
   "cell_type": "markdown",
   "metadata": {},
   "source": [
    "# Summary\n",
    "In this project I used a Sequential API to build, train and evaluate a classification MLP and used different libraries to process the images to prepare them for the neural network, and also one-hot encoded the labels to make it more optimal for the network. The model had a satisfactory performance with a 78% accuracy."
   ]
  }
 ],
 "metadata": {
  "kernelspec": {
   "display_name": "Python 3",
   "language": "python",
   "name": "python3"
  },
  "language_info": {
   "codemirror_mode": {
    "name": "ipython",
    "version": 3
   },
   "file_extension": ".py",
   "mimetype": "text/x-python",
   "name": "python",
   "nbconvert_exporter": "python",
   "pygments_lexer": "ipython3",
   "version": "3.7.9"
  }
 },
 "nbformat": 4,
 "nbformat_minor": 4
}
